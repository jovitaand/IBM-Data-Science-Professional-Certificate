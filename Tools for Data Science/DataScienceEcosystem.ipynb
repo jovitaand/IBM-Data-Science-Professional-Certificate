{
  "nbformat": 4,
  "nbformat_minor": 0,
  "metadata": {
    "colab": {
      "provenance": []
    },
    "kernelspec": {
      "name": "python3",
      "display_name": "Python 3"
    },
    "language_info": {
      "name": "python"
    }
  },
  "cells": [
    {
      "cell_type": "markdown",
      "source": [
        "\n",
        "\n",
        "\n",
        "#Data Science Tools and Ecosystem\n",
        "\n",
        "In this notebook, Data Science Tools and Ecosystem are summarized.\n",
        "\n",
        "\n"
      ],
      "metadata": {
        "id": "A_dVNvu0NTF2"
      }
    },
    {
      "cell_type": "markdown",
      "source": [
        "Some of the popular languages that Data Scientists use are:\n",
        "\n",
        "\n",
        "1.   R\n",
        "2.   Python\n",
        "3.   SQL\n",
        "\n"
      ],
      "metadata": {
        "id": "paGHkM88PDit"
      }
    },
    {
      "cell_type": "markdown",
      "source": [
        "Some of the commonly used libraries used by Data Scientists include:\n",
        "\n",
        "\n",
        "1.   matplotlib\n",
        "2.   seaborn\n",
        "3.   sci-kit learn\n",
        "\n",
        "\n",
        "\n",
        "\n"
      ],
      "metadata": {
        "id": "EJ1HeM0URUTK"
      }
    },
    {
      "cell_type": "markdown",
      "source": [
        "| Data Science Tools      |\n",
        "|-------------------------|\n",
        "| Jupyter Notebook         |\n",
        "| RStudio                 |\n",
        "| Spyder                  |\n",
        "\n"
      ],
      "metadata": {
        "id": "qjNl1MELR2V-"
      }
    },
    {
      "cell_type": "markdown",
      "source": [
        "### Below are a few examples of evaluating arithmetic expressions in Python.\n",
        "\n",
        "1. Addition: `5 + 3 = 8`\n",
        "2. Subtraction: `10 - 4 = 6`\n",
        "3. Multiplication: `6 * 7 = 42`\n",
        "4. Division: `20 / 4 = 5`"
      ],
      "metadata": {
        "id": "VfGBJxG6Tcnk"
      }
    },
    {
      "cell_type": "code",
      "execution_count": null,
      "metadata": {
        "colab": {
          "base_uri": "https://localhost:8080/"
        },
        "id": "EvVgmXwhNNMU",
        "outputId": "2bea6584-d7da-473f-fc33-ed294143ab79"
      },
      "outputs": [
        {
          "output_type": "execute_result",
          "data": {
            "text/plain": [
              "17"
            ]
          },
          "metadata": {},
          "execution_count": 2
        }
      ],
      "source": [
        "#This a simple arithmetic expression to mutiply then add integers\n",
        "(3*4)+5"
      ]
    },
    {
      "cell_type": "code",
      "source": [
        "#This will convert 200 minutes to hours by diving by 60\n",
        "200/60"
      ],
      "metadata": {
        "colab": {
          "base_uri": "https://localhost:8080/"
        },
        "id": "eQBXh-DAU3Xb",
        "outputId": "e4abaa71-5839-42f0-a16b-266588c166f4"
      },
      "execution_count": null,
      "outputs": [
        {
          "output_type": "execute_result",
          "data": {
            "text/plain": [
              "3.3333333333333335"
            ]
          },
          "metadata": {},
          "execution_count": 3
        }
      ]
    },
    {
      "cell_type": "markdown",
      "source": [
        "**Objectives:**\n",
        "\n",
        "\n",
        "*   The most popular language in data science is R, Python and SQL\n",
        "*   Most programmers use RStudio to run R code\n",
        "*   Other programmers use Google Colab, Jupyter Notebook, Visual Studio\n",
        "*   Some libraries in data science that are important are sci-kit learn, seaborn, matplotlib, ggplot etc\n",
        "*   You can perform various arithmetic expression in addition, subtraction, multiplication, division.\n",
        "\n"
      ],
      "metadata": {
        "id": "shEery-fWB-v"
      }
    },
    {
      "cell_type": "markdown",
      "source": [
        "##Author\n",
        "Jovita Andrews"
      ],
      "metadata": {
        "id": "JqGC31v2XYVS"
      }
    }
  ]
}